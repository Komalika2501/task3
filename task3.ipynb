{
  "nbformat": 4,
  "nbformat_minor": 0,
  "metadata": {
    "colab": {
      "name": "task3.ipynb",
      "provenance": [],
      "authorship_tag": "ABX9TyPS+z/nPextSE4XVh6vy7DM",
      "include_colab_link": true
    },
    "kernelspec": {
      "name": "python3",
      "display_name": "Python 3"
    },
    "language_info": {
      "name": "python"
    }
  },
  "cells": [
    {
      "cell_type": "markdown",
      "metadata": {
        "id": "view-in-github",
        "colab_type": "text"
      },
      "source": [
        "<a href=\"https://colab.research.google.com/github/Komalika2501/task3/blob/main/task3.ipynb\" target=\"_parent\"><img src=\"https://colab.research.google.com/assets/colab-badge.svg\" alt=\"Open In Colab\"/></a>"
      ]
    },
    {
      "cell_type": "markdown",
      "source": [
        "## *Implement two hidden layers neural network classifier from scratch in JAX (task - 3)*"
      ],
      "metadata": {
        "id": "m_XBU_e0WaHg"
      }
    },
    {
      "cell_type": "code",
      "execution_count": null,
      "metadata": {
        "id": "rBLRZBE7jXGo"
      },
      "outputs": [],
      "source": [
        "# todo: define init MLP and add the predict\n",
        "import jax\n",
        "import jax.numpy as jnp\n",
        "from jax.scipy.special import logsumexp\n",
        "import numpy as np\n",
        "from jax import jit, vmap, pmap, grad, value_and_grad\n",
        "\n",
        "from torchvision.datasets import MNIST\n",
        "from torch.utils.data import DataLoader"
      ]
    },
    {
      "cell_type": "code",
      "source": [
        "seed = 0\n",
        "mnist_img_size = (28,28)\n",
        "def init_MLP(layer_widths,parent_key, scale=0.01):\n",
        "\n",
        "  params = []\n",
        "  keys = jax.random.split(parent_key, num=len(layer_widths)-1)\n",
        "\n",
        "  for in_width, out_width, key in zip(layer_widths[:-1], layer_widths[1:], keys):\n",
        "    weight_key, bias_key = jax.random.split(key)\n",
        "    params.append(\n",
        "        [scale*jax.random.normal(weight_key, shape=(out_width, in_width)), \n",
        "         scale*jax.random.normal(bias_key, shape=(out_width,))]\n",
        "                  )\n",
        "  return params\n",
        "\n",
        "key = jax.random.PRNGKey(seed)\n",
        "MLP_params = init_MLP([784,512,256,10],key)\n",
        "\n",
        "print(jax.tree_map(lambda x:x.shape,MLP_params))\n"
      ],
      "metadata": {
        "colab": {
          "base_uri": "https://localhost:8080/"
        },
        "id": "TNqhiUTzjlGB",
        "outputId": "8b13f81a-c94e-484e-a491-0b54fd4e895e"
      },
      "execution_count": null,
      "outputs": [
        {
          "output_type": "stream",
          "name": "stdout",
          "text": [
            "[[(512, 784), (512,)], [(256, 512), (256,)], [(10, 256), (10,)]]\n"
          ]
        }
      ]
    },
    {
      "cell_type": "code",
      "source": [
        "def MLP_predict(params, x):\n",
        "  # computing the forward pass for each example individually\n",
        "  hidden_layers = params[:-1]\n",
        "\n",
        "  activation = x\n",
        "  # loop over the Relu hidden layers\n",
        "  for w, b in hidden_layers:\n",
        "    activation = jax.nn.relu(jnp.dot(w,activation)+b)\n",
        "\n",
        "  w_last, b_last = params[-1]\n",
        "  logits = jnp.dot(w_last, activation)+b_last\n",
        "\n",
        "  return logits - logsumexp(logits)\n",
        "\n",
        "batched_MLP_predict = vmap(MLP_predict, in_axes=(None,0))\n",
        "\n",
        "# small test\n",
        "dummy_imgs_flat = np.random.randn(16, np.prod(mnist_img_size))\n",
        "print(dummy_imgs_flat.shape)\n",
        "predictions = batched_MLP_predict(MLP_params, dummy_imgs_flat)\n",
        "print(predictions.shape)\n"
      ],
      "metadata": {
        "colab": {
          "base_uri": "https://localhost:8080/"
        },
        "id": "T7kIbphyqwZ4",
        "outputId": "f87dfb17-2c03-4740-ea31-7a29273120c1"
      },
      "execution_count": null,
      "outputs": [
        {
          "output_type": "stream",
          "name": "stdout",
          "text": [
            "(16, 784)\n",
            "(16, 10)\n"
          ]
        }
      ]
    },
    {
      "cell_type": "code",
      "source": [
        "# todo: adding data loading in PyTorch\n",
        "def custom_transform(x):\n",
        "  return np.ravel(np.array(x, dtype=np.float32))\n",
        "\n",
        "def custom_collate_fn(batch):\n",
        "  transposed_data = list(zip(*batch))\n",
        "\n",
        "  labels = np.array(transposed_data[1])\n",
        "  imgs = np.array(transposed_data[0])\n",
        "  return imgs,labels\n",
        "\n",
        "\n",
        "train_dataset = MNIST(root='train_mnist', train=True, download= True, transform=custom_transform)\n",
        "# testing the transformation\n",
        "print(type(train_dataset))\n",
        "something = train_dataset[0]\n",
        "print(type(something[0]))\n",
        "\n",
        "# as we see we are working with jax neither PyTorch nor tensorflow \n",
        "#then we have to transform the images in dataset into numpy array from this PIL.image\n",
        "\n",
        "test_dataset = MNIST(root='test_mnist', train= False, download= True, transform = custom_transform )\n",
        "batch_size = 128\n",
        "img = train_dataset[0][0]\n",
        "print(img.shape)\n",
        "\n",
        "train_loader = DataLoader(train_dataset, batch_size, shuffle=True, sampler=None,collate_fn= custom_collate_fn)\n",
        "test_loader = DataLoader(test_dataset, batch_size, shuffle=False, collate_fn=custom_collate_fn, drop_last=True)\n",
        "\n",
        "batch_data = next(iter(train_loader))\n",
        "imgs = batch_data[0]\n",
        "lbls = batch_data[1]\n",
        "print(imgs.shape, imgs[0].dtype, lbls.shape, lbls[0].dtype)\n",
        "\n",
        "# optimization - loading the whole dataset into memory\n",
        "train_images = jnp.array(train_dataset.data).reshape(len(train_dataset), -1)\n",
        "train_lbls = jnp.array(train_dataset.targets)\n",
        "\n",
        "test_images = jnp.array(test_dataset.data).reshape(len(test_dataset), -1)\n",
        "test_lbls = jnp.array(test_dataset.targets)"
      ],
      "metadata": {
        "colab": {
          "base_uri": "https://localhost:8080/"
        },
        "id": "hpnTYCxO4Ego",
        "outputId": "76632a79-b1bf-4a79-f5ff-69426f5fb5de"
      },
      "execution_count": null,
      "outputs": [
        {
          "output_type": "stream",
          "name": "stdout",
          "text": [
            "<class 'torchvision.datasets.mnist.MNIST'>\n",
            "<class 'numpy.ndarray'>\n",
            "(784,)\n",
            "(128, 784) float32 (128,) int64\n"
          ]
        }
      ]
    },
    {
      "cell_type": "code",
      "source": [
        "# todo: add the training loop, loss function\n",
        "\n",
        "num_epochs = 5\n",
        "\n",
        "def loss_fn(params, imgs, gt_lbls):\n",
        "    predictions = batched_MLP_predict(params, imgs)\n",
        "\n",
        "    return -jnp.mean(predictions * gt_lbls)\n",
        "\n",
        "def accuracy(params, dataset_imgs, dataset_lbls):\n",
        "    pred_classes = jnp.argmax(batched_MLP_predict(params, dataset_imgs), axis=1)\n",
        "    return jnp.mean(dataset_lbls == pred_classes)\n",
        "\n",
        "@jit\n",
        "def update(params, imgs, gt_lbls, lr=0.01):\n",
        "    loss, grads = value_and_grad(loss_fn)(params, imgs, gt_lbls)\n",
        "\n",
        "    return loss, jax.tree_multimap(lambda p, g: p - lr*g, params, grads)\n",
        "\n",
        "# Create a MLP\n",
        "MLP_params = init_MLP([np.prod(mnist_img_size), 512, 256, len(MNIST.classes)], key)\n",
        "\n",
        "for epoch in range(num_epochs):\n",
        "\n",
        "    for cnt, (imgs, lbls) in enumerate(train_loader):\n",
        "\n",
        "        gt_labels = jax.nn.one_hot(lbls, len(MNIST.classes))\n",
        "        \n",
        "        loss, MLP_params = update(MLP_params, imgs, gt_labels)\n",
        "        \n",
        "        if cnt % 50 == 0:\n",
        "            print(loss)\n",
        "\n",
        "    print(f'Epoch {epoch}, train acc = {accuracy(MLP_params, train_images, train_lbls)} test acc = {accuracy(MLP_params, test_images, test_lbls)}')"
      ],
      "metadata": {
        "colab": {
          "base_uri": "https://localhost:8080/"
        },
        "id": "IryXrlAn7XyC",
        "outputId": "4012eba4-6a62-4520-e348-da219bc0d2ff"
      },
      "execution_count": null,
      "outputs": [
        {
          "output_type": "stream",
          "name": "stdout",
          "text": [
            "0.23810497\n",
            "0.087891\n",
            "0.06055032\n",
            "0.04873803\n",
            "0.044856805\n",
            "0.041558135\n",
            "0.017226944\n",
            "0.051550265\n",
            "0.030981481\n",
            "0.024762424\n",
            "Epoch 0, train acc = 0.9117000102996826 test acc = 0.915399968624115\n",
            "0.02242488\n",
            "0.038204826\n",
            "0.029759724\n",
            "0.028814156\n",
            "0.03476141\n",
            "0.011736705\n",
            "0.027560491\n",
            "0.030366594\n",
            "0.022153376\n",
            "0.030858075\n",
            "Epoch 1, train acc = 0.9347333312034607 test acc = 0.9343000054359436\n",
            "0.013776625\n",
            "0.022813382\n",
            "0.02567752\n",
            "0.015121998\n",
            "0.019742316\n",
            "0.022333434\n",
            "0.02496249\n",
            "0.022899596\n",
            "0.012124732\n",
            "0.017239286\n",
            "Epoch 2, train acc = 0.9462833404541016 test acc = 0.9441999793052673\n",
            "0.023720494\n",
            "0.029169876\n",
            "0.013067083\n",
            "0.0153065575\n",
            "0.022722801\n",
            "0.012793926\n",
            "0.020874484\n",
            "0.031087339\n",
            "0.019954143\n",
            "0.018512445\n",
            "Epoch 3, train acc = 0.954633355140686 test acc = 0.9508999586105347\n",
            "0.024799528\n",
            "0.020295164\n",
            "0.0257946\n",
            "0.018008364\n",
            "0.010205585\n",
            "0.013567696\n",
            "0.013480702\n",
            "0.025155593\n",
            "0.0061104163\n",
            "0.0073105604\n",
            "Epoch 4, train acc = 0.9609000086784363 test acc = 0.9555999636650085\n"
          ]
        }
      ]
    },
    {
      "cell_type": "code",
      "source": [
        "imgs, lbls = next(iter(test_loader))\n",
        "img = imgs[1].reshape(mnist_img_size)\n",
        "gt_lbl = lbls[1]\n",
        "print(img.shape)\n",
        "\n",
        "import matplotlib.pyplot as plt\n",
        "\n",
        "pred = jnp.argmax(MLP_predict(MLP_params, np.ravel(img)))\n",
        "print('pred', pred)\n",
        "print('gt', gt_lbl)\n",
        "\n",
        "plt.imshow(img); plt.show()"
      ],
      "metadata": {
        "colab": {
          "base_uri": "https://localhost:8080/",
          "height": 317
        },
        "id": "pw_b-UegJDSq",
        "outputId": "7424582f-1f53-43b8-9f59-b015ac414ab2"
      },
      "execution_count": null,
      "outputs": [
        {
          "output_type": "stream",
          "name": "stdout",
          "text": [
            "(28, 28)\n",
            "pred 2\n",
            "gt 2\n"
          ]
        },
        {
          "output_type": "display_data",
          "data": {
            "text/plain": [
              "<Figure size 432x288 with 1 Axes>"
            ],
            "image/png": "[encoded data removed]"
          },
          "metadata": {
            "needs_background": "light"
          }
        }
      ]
    },
    {
      "cell_type": "code",
      "source": [
        ""
      ],
      "metadata": {
        "id": "uHP-ufvZLMQg"
      },
      "execution_count": null,
      "outputs": []
    }
  ]
}